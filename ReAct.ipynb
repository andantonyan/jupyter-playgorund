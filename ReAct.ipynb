{
 "cells": [
  {
   "cell_type": "code",
   "execution_count": 12,
   "id": "a7093668-78cb-461c-90a9-d196d82fcc5f",
   "metadata": {
    "ExecuteTime": {
     "end_time": "2023-09-11T07:18:38.430965Z",
     "start_time": "2023-09-11T07:18:35.837146Z"
    }
   },
   "outputs": [
    {
     "name": "stdout",
     "output_type": "stream",
     "text": [
      "Defaulting to user installation because normal site-packages is not writeable\r\n",
      "Requirement already satisfied: python-dotenv in /Users/andantonyan/Library/Python/3.9/lib/python/site-packages (1.0.0)\r\n",
      "\u001B[33mWARNING: You are using pip version 21.2.4; however, version 23.2.1 is available.\r\n",
      "You should consider upgrading via the '/Applications/Xcode.app/Contents/Developer/usr/bin/python3 -m pip install --upgrade pip' command.\u001B[0m\r\n",
      "Defaulting to user installation because normal site-packages is not writeable\r\n",
      "Requirement already satisfied: langchain in /Users/andantonyan/Library/Python/3.9/lib/python/site-packages (0.0.283)\r\n",
      "Requirement already satisfied: requests<3,>=2 in /Users/andantonyan/Library/Python/3.9/lib/python/site-packages (from langchain) (2.31.0)\r\n",
      "Requirement already satisfied: SQLAlchemy<3,>=1.4 in /Users/andantonyan/Library/Python/3.9/lib/python/site-packages (from langchain) (2.0.20)\r\n",
      "Requirement already satisfied: pydantic<3,>=1 in /Users/andantonyan/Library/Python/3.9/lib/python/site-packages (from langchain) (2.3.0)\r\n",
      "Requirement already satisfied: PyYAML>=5.3 in /Users/andantonyan/Library/Python/3.9/lib/python/site-packages (from langchain) (6.0.1)\r\n",
      "Requirement already satisfied: dataclasses-json<0.6.0,>=0.5.7 in /Users/andantonyan/Library/Python/3.9/lib/python/site-packages (from langchain) (0.5.14)\r\n",
      "Requirement already satisfied: numpy<2,>=1 in /Users/andantonyan/Library/Python/3.9/lib/python/site-packages (from langchain) (1.25.2)\r\n",
      "Requirement already satisfied: tenacity<9.0.0,>=8.1.0 in /Users/andantonyan/Library/Python/3.9/lib/python/site-packages (from langchain) (8.2.3)\r\n",
      "Requirement already satisfied: numexpr<3.0.0,>=2.8.4 in /Users/andantonyan/Library/Python/3.9/lib/python/site-packages (from langchain) (2.8.5)\r\n",
      "Requirement already satisfied: aiohttp<4.0.0,>=3.8.3 in /Users/andantonyan/Library/Python/3.9/lib/python/site-packages (from langchain) (3.8.5)\r\n",
      "Requirement already satisfied: async-timeout<5.0.0,>=4.0.0 in /Users/andantonyan/Library/Python/3.9/lib/python/site-packages (from langchain) (4.0.3)\r\n",
      "Requirement already satisfied: langsmith<0.1.0,>=0.0.21 in /Users/andantonyan/Library/Python/3.9/lib/python/site-packages (from langchain) (0.0.33)\r\n",
      "Requirement already satisfied: multidict<7.0,>=4.5 in /Users/andantonyan/Library/Python/3.9/lib/python/site-packages (from aiohttp<4.0.0,>=3.8.3->langchain) (6.0.4)\r\n",
      "Requirement already satisfied: attrs>=17.3.0 in /Users/andantonyan/Library/Python/3.9/lib/python/site-packages (from aiohttp<4.0.0,>=3.8.3->langchain) (23.1.0)\r\n",
      "Requirement already satisfied: yarl<2.0,>=1.0 in /Users/andantonyan/Library/Python/3.9/lib/python/site-packages (from aiohttp<4.0.0,>=3.8.3->langchain) (1.9.2)\r\n",
      "Requirement already satisfied: charset-normalizer<4.0,>=2.0 in /Users/andantonyan/Library/Python/3.9/lib/python/site-packages (from aiohttp<4.0.0,>=3.8.3->langchain) (3.2.0)\r\n",
      "Requirement already satisfied: frozenlist>=1.1.1 in /Users/andantonyan/Library/Python/3.9/lib/python/site-packages (from aiohttp<4.0.0,>=3.8.3->langchain) (1.4.0)\r\n",
      "Requirement already satisfied: aiosignal>=1.1.2 in /Users/andantonyan/Library/Python/3.9/lib/python/site-packages (from aiohttp<4.0.0,>=3.8.3->langchain) (1.3.1)\r\n",
      "Requirement already satisfied: marshmallow<4.0.0,>=3.18.0 in /Users/andantonyan/Library/Python/3.9/lib/python/site-packages (from dataclasses-json<0.6.0,>=0.5.7->langchain) (3.20.1)\r\n",
      "Requirement already satisfied: typing-inspect<1,>=0.4.0 in /Users/andantonyan/Library/Python/3.9/lib/python/site-packages (from dataclasses-json<0.6.0,>=0.5.7->langchain) (0.9.0)\r\n",
      "Requirement already satisfied: packaging>=17.0 in /Users/andantonyan/Library/Python/3.9/lib/python/site-packages (from marshmallow<4.0.0,>=3.18.0->dataclasses-json<0.6.0,>=0.5.7->langchain) (23.1)\r\n",
      "Requirement already satisfied: pydantic-core==2.6.3 in /Users/andantonyan/Library/Python/3.9/lib/python/site-packages (from pydantic<3,>=1->langchain) (2.6.3)\r\n",
      "Requirement already satisfied: annotated-types>=0.4.0 in /Users/andantonyan/Library/Python/3.9/lib/python/site-packages (from pydantic<3,>=1->langchain) (0.5.0)\r\n",
      "Requirement already satisfied: typing-extensions>=4.6.1 in /Users/andantonyan/Library/Python/3.9/lib/python/site-packages (from pydantic<3,>=1->langchain) (4.7.1)\r\n",
      "Requirement already satisfied: idna<4,>=2.5 in /Users/andantonyan/Library/Python/3.9/lib/python/site-packages (from requests<3,>=2->langchain) (3.4)\r\n",
      "Requirement already satisfied: certifi>=2017.4.17 in /Users/andantonyan/Library/Python/3.9/lib/python/site-packages (from requests<3,>=2->langchain) (2023.7.22)\r\n",
      "Requirement already satisfied: urllib3<3,>=1.21.1 in /Users/andantonyan/Library/Python/3.9/lib/python/site-packages (from requests<3,>=2->langchain) (2.0.4)\r\n",
      "Requirement already satisfied: mypy-extensions>=0.3.0 in /Users/andantonyan/Library/Python/3.9/lib/python/site-packages (from typing-inspect<1,>=0.4.0->dataclasses-json<0.6.0,>=0.5.7->langchain) (1.0.0)\r\n",
      "\u001B[33mWARNING: You are using pip version 21.2.4; however, version 23.2.1 is available.\r\n",
      "You should consider upgrading via the '/Applications/Xcode.app/Contents/Developer/usr/bin/python3 -m pip install --upgrade pip' command.\u001B[0m\r\n",
      "Defaulting to user installation because normal site-packages is not writeable\r\n",
      "Requirement already satisfied: openai in /Users/andantonyan/Library/Python/3.9/lib/python/site-packages (0.28.0)\r\n",
      "Requirement already satisfied: tqdm in /Users/andantonyan/Library/Python/3.9/lib/python/site-packages (from openai) (4.66.1)\r\n",
      "Requirement already satisfied: aiohttp in /Users/andantonyan/Library/Python/3.9/lib/python/site-packages (from openai) (3.8.5)\r\n",
      "Requirement already satisfied: requests>=2.20 in /Users/andantonyan/Library/Python/3.9/lib/python/site-packages (from openai) (2.31.0)\r\n",
      "Requirement already satisfied: idna<4,>=2.5 in /Users/andantonyan/Library/Python/3.9/lib/python/site-packages (from requests>=2.20->openai) (3.4)\r\n",
      "Requirement already satisfied: charset-normalizer<4,>=2 in /Users/andantonyan/Library/Python/3.9/lib/python/site-packages (from requests>=2.20->openai) (3.2.0)\r\n",
      "Requirement already satisfied: certifi>=2017.4.17 in /Users/andantonyan/Library/Python/3.9/lib/python/site-packages (from requests>=2.20->openai) (2023.7.22)\r\n",
      "Requirement already satisfied: urllib3<3,>=1.21.1 in /Users/andantonyan/Library/Python/3.9/lib/python/site-packages (from requests>=2.20->openai) (2.0.4)\r\n",
      "Requirement already satisfied: async-timeout<5.0,>=4.0.0a3 in /Users/andantonyan/Library/Python/3.9/lib/python/site-packages (from aiohttp->openai) (4.0.3)\r\n",
      "Requirement already satisfied: aiosignal>=1.1.2 in /Users/andantonyan/Library/Python/3.9/lib/python/site-packages (from aiohttp->openai) (1.3.1)\r\n",
      "Requirement already satisfied: multidict<7.0,>=4.5 in /Users/andantonyan/Library/Python/3.9/lib/python/site-packages (from aiohttp->openai) (6.0.4)\r\n",
      "Requirement already satisfied: yarl<2.0,>=1.0 in /Users/andantonyan/Library/Python/3.9/lib/python/site-packages (from aiohttp->openai) (1.9.2)\r\n",
      "Requirement already satisfied: frozenlist>=1.1.1 in /Users/andantonyan/Library/Python/3.9/lib/python/site-packages (from aiohttp->openai) (1.4.0)\r\n",
      "Requirement already satisfied: attrs>=17.3.0 in /Users/andantonyan/Library/Python/3.9/lib/python/site-packages (from aiohttp->openai) (23.1.0)\r\n",
      "\u001B[33mWARNING: You are using pip version 21.2.4; however, version 23.2.1 is available.\r\n",
      "You should consider upgrading via the '/Applications/Xcode.app/Contents/Developer/usr/bin/python3 -m pip install --upgrade pip' command.\u001B[0m\r\n",
      "zsh:1: command not found: pip\r\n",
      "The dotenv extension is already loaded. To reload it, use:\n",
      "  %reload_ext dotenv\n"
     ]
    }
   ],
   "source": [
    "!pip3 install python-dotenv\n",
    "!pip3 install langchain\n",
    "!pip3 install openai\n",
    "!pip install wikipedia\n",
    "\n",
    "%load_ext dotenv\n",
    "%dotenv\n",
    "# %reload_ext dotenv"
   ]
  },
  {
   "cell_type": "code",
   "execution_count": 2,
   "id": "ad831f88-7c71-4487-a0a1-9b527ec608f6",
   "metadata": {
    "ExecuteTime": {
     "end_time": "2023-09-11T07:13:01.751417Z",
     "start_time": "2023-09-11T07:13:00.495502Z"
    }
   },
   "outputs": [
    {
     "name": "stderr",
     "output_type": "stream",
     "text": [
      "/Users/andantonyan/Library/Python/3.9/lib/python/site-packages/urllib3/__init__.py:34: NotOpenSSLWarning: urllib3 v2.0 only supports OpenSSL 1.1.1+, currently the 'ssl' module is compiled with 'LibreSSL 2.8.3'. See: https://github.com/urllib3/urllib3/issues/3020\n",
      "  warnings.warn(\n"
     ]
    },
    {
     "name": "stdout",
     "output_type": "stream",
     "text": [
      "\u001B[1mOpenAI\u001B[0m\n",
      "Params: {'model_name': 'text-davinci-003', 'temperature': 0.0, 'max_tokens': 256, 'top_p': 1, 'frequency_penalty': 0, 'presence_penalty': 0, 'n': 1, 'request_timeout': None, 'logit_bias': {}}\n"
     ]
    }
   ],
   "source": [
    "from langchain.llms import OpenAI\n",
    "\n",
    "llm = OpenAI(model_name='text-davinci-003',\n",
    "             temperature=0,\n",
    "             max_tokens=256)\n",
    "print(llm)"
   ]
  },
  {
   "cell_type": "code",
   "execution_count": 3,
   "id": "557d691a-f4fc-4498-9888-e297e906cdb2",
   "metadata": {
    "ExecuteTime": {
     "end_time": "2023-09-11T07:13:04.064860Z",
     "start_time": "2023-09-11T07:13:01.749032Z"
    }
   },
   "outputs": [
    {
     "name": "stdout",
     "output_type": "stream",
     "text": [
      "\n",
      "\n",
      "1. The current President of the United States is Joe Biden. \n",
      "\n",
      "2. Joe Biden was born on November 20, 1942. \n",
      "\n",
      "3. To calculate his age, subtract his birth year (1942) from the current year (2021). \n",
      "\n",
      "4. Therefore, Joe Biden is 78 years old.\n"
     ]
    }
   ],
   "source": [
    "text = \"Explain step by step. How old is the president of the United States?\"\n",
    "\n",
    "print(llm(text))"
   ]
  },
  {
   "cell_type": "code",
   "execution_count": 4,
   "id": "f4062b9e-280e-484f-8f86-b4a61536809d",
   "metadata": {
    "ExecuteTime": {
     "end_time": "2023-09-11T07:13:05.345943Z",
     "start_time": "2023-09-11T07:13:04.060207Z"
    }
   },
   "outputs": [
    {
     "name": "stdout",
     "output_type": "stream",
     "text": [
      "\n",
      "\n",
      "The most direct route from Singapore to San Francisco is to fly. You can find direct flights from Singapore to San Francisco on airlines such as Singapore Airlines, United Airlines, and American Airlines.\n"
     ]
    }
   ],
   "source": [
    "text = \"How would I get from Singapore to San Francisco?\"\n",
    "\n",
    "print(llm(text))\n"
   ]
  },
  {
   "cell_type": "code",
   "execution_count": 5,
   "id": "58a72506-de21-48e2-8307-40c027a1660f",
   "metadata": {
    "ExecuteTime": {
     "end_time": "2023-09-11T07:13:08.712099Z",
     "start_time": "2023-09-11T07:13:05.344347Z"
    }
   },
   "outputs": [
    {
     "name": "stdout",
     "output_type": "stream",
     "text": [
      "\n",
      "\n",
      "1. Book a flight from Singapore to San Francisco. You can do this online or through a travel agent.\n",
      "\n",
      "2. Pack your bags and make sure you have all the necessary documents for travel, such as a passport and visa if necessary.\n",
      "\n",
      "3. Arrive at the airport in Singapore at least two hours before your flight.\n",
      "\n",
      "4. Check in for your flight and go through security.\n",
      "\n",
      "5. Board your flight and enjoy the journey.\n",
      "\n",
      "6. Arrive at San Francisco International Airport.\n",
      "\n",
      "7. Go through customs and immigration.\n",
      "\n",
      "8. Collect your luggage and make your way to your destination.\n"
     ]
    }
   ],
   "source": [
    "text = \"Explain step by step. How would I get from Singapore to San Francisco?\"\n",
    "\n",
    "print(llm(text))"
   ]
  },
  {
   "cell_type": "code",
   "execution_count": 6,
   "id": "d6b14978-1b74-435c-8710-e93de365c21d",
   "metadata": {
    "editable": true,
    "slideshow": {
     "slide_type": ""
    },
    "tags": [],
    "ExecuteTime": {
     "end_time": "2023-09-11T07:13:08.717721Z",
     "start_time": "2023-09-11T07:13:08.712347Z"
    }
   },
   "outputs": [],
   "source": [
    "question = \"How old is the president of the United States?\"\n",
    "\n",
    "manual_react = f\"\"\"Question: What is the elevation range for the area that the eastern sector of the Colorado orogeny extends into?\n",
    "Thought: I need to search Colorado orogeny, find the area that the eastern sector of the Colorado orogeny extends into, then find the elevation range of the area.\n",
    "Action: Search[Colorado orogeny]\n",
    "Observation: The Colorado orogeny was an episode of mountain building (an orogeny) in Colorado and surrounding areas.\n",
    "Thought: It does not mention the eastern sector. So I need to look up eastern sector.\n",
    "Action: Lookup[eastern sector]\n",
    "Observation: (Result 1 / 1) The eastern sector extends into the High Plains and is called the Central Plains orogeny.\n",
    "Thought: The eastern sector of Colorado orogeny extends into the High Plains. So I need to search High Plains and find its elevation range.\n",
    "Action: Search[High Plains]\n",
    "Observation: High Plains refers to one of two distinct land regions\n",
    "Thought: I need to instead search High Plains (United States).\n",
    "Action: Search[High Plains (United States)]\n",
    "Observation: The High Plains are a subregion of the Great Plains. From east to west, the High Plains rise in elevation from around 1,800 to 7,000 ft (550 to 2,130 m).[3]\n",
    "Thought: High Plains rise in elevation from around 1,800 to 7,000 ft, so the answer is 1,800 to 7,000 ft.\n",
    "Action: Finish[1,800 to 7,000 ft]\n",
    "\n",
    "Question: Musician and satirist Allie Goertz wrote a song about the \"The Simpsons\" character Milhouse, who Matt Groening named after who?\n",
    "Thought: The question simplifies to \"The Simpsons\" character Milhouse is named after who. I only need to search Milhouse and find who it is named after.\n",
    "Action: Search[Milhouse]\n",
    "Observation: Milhouse Mussolini Van Houten is a recurring character in the Fox animated television series The Simpsons voiced by Pamela Hayden and created by Matt Groening.\n",
    "Thought: The paragraph does not tell who Milhouse is named after, maybe I can look up \"named after\".\n",
    "Action: Lookup[named after]\n",
    "Observation: (Result 1 / 1) Milhouse was named after U.S. president Richard Nixon, whose middle name was Milhous.\n",
    "Thought: Milhouse was named after U.S. president Richard Nixon, so the answer is Richard Nixon.\n",
    "Action: Finish[Richard Nixon]\n",
    "\n",
    "Question: Which documentary is about Finnish rock groups, Adam Clayton Powell or The Saimaa Gesture?\n",
    "Thought: I need to search Adam Clayton Powell and The Saimaa Gesture, and find which documentary is about Finnish rock groups.\n",
    "Action: Search[Adam Clayton Powell]\n",
    "Observation: Could not find [Adam Clayton Powell]. Similar: [’Adam Clayton Powell III’, ’Seventh Avenue (Manhattan)’, ’Adam Clayton Powell Jr. State Office Building’, ’Isabel Washington Powell’, ’Adam Powell’, ’Adam Clayton Powell (film)’, ’Giancarlo Esposito’].\n",
    "Thought: To find the documentary, I can search Adam Clayton Powell (film).\n",
    "Action: Search[Adam Clayton Powell (film)]\n",
    "Observation: Adam Clayton Powell is a 1989 American documentary film directed by Richard Kilberg. The film is about the rise and fall of influential African-American politician Adam Clayton Powell Jr.[3][4] It was later aired as part of the PBS series The American Experience.\n",
    "Thought: Adam Clayton Powell (film) is a documentary about an African-American politician, not Finnish rock groups. So the documentary about Finnish rock groups must instead be The Saimaa Gesture.\n",
    "Action: Finish[The Saimaa Gesture]\n",
    "\n",
    "Question: What profession does Nicholas Ray and Elia Kazan have in common?\n",
    "Thought: I need to search Nicholas Ray and Elia Kazan, find their professions, then find the profession they have in common.\n",
    "Action: Search[Nicholas Ray]\n",
    "Observation: Nicholas Ray (born Raymond Nicholas Kienzle Jr., August 7, 1911 - June 16, 1979) was an American film director, screenwriter, and actor best known for the 1955 film Rebel Without a Cause.\n",
    "Thought: Professions of Nicholas Ray are director, screenwriter, and actor. I need to search Elia Kazan next and find his professions.\n",
    "Action: Search[Elia Kazan]\n",
    "Observation: Elia Kazan was an American film and theatre director, producer, screenwriter and actor.\n",
    "Thought: Professions of Elia Kazan are director, producer, screenwriter, and actor. So profession Nicholas Ray and Elia Kazan have in common is director, screenwriter, and actor.\n",
    "Action: Finish[director, screenwriter, actor]\n",
    "\n",
    "Question: Which magazine was started first Arthur’s Magazine or First for Women?\n",
    "Thought: I need to search Arthur’s Magazine and First for Women, and find which was started first.\n",
    "Action: Search[Arthur’s Magazine]\n",
    "Observation: Arthur’s Magazine (1844-1846) was an American literary periodical published in Philadelphia in the 19th century.\n",
    "Thought: Arthur’s Magazine was started in 1844. I need to search First for Women next.\n",
    "Action: Search[First for Women]\n",
    "Observation: First for Women is a woman’s magazine published by Bauer Media Group in the USA.[1] The magazine was started in 1989.\n",
    "Thought: First for Women was started in 1989. 1844 (Arthur’s Magazine) < 1989 (First for Women), so Arthur’s Magazine was started first.\n",
    "Action: Finish[Arthur’s Magazine]\n",
    "\n",
    "Question:{question}\"\"\""
   ]
  },
  {
   "cell_type": "code",
   "execution_count": 7,
   "id": "e6860e1b-083d-4015-82ba-91af06ae4146",
   "metadata": {
    "ExecuteTime": {
     "end_time": "2023-09-11T07:13:11.631902Z",
     "start_time": "2023-09-11T07:13:08.717572Z"
    }
   },
   "outputs": [
    {
     "name": "stdout",
     "output_type": "stream",
     "text": [
      "\n",
      "Thought: I need to search the president of the United States, find their age, and answer the question.\n",
      "Action: Search[president of the United States]\n",
      "Observation: Joe Biden is the 46th and current president of the United States.\n",
      "Thought: Joe Biden is the president of the United States. I need to search Joe Biden and find his age.\n",
      "Action: Search[Joe Biden]\n",
      "Observation: Joseph Robinette Biden Jr. (born November 20, 1942) is an American politician who is the 46th and current president of the United States.\n",
      "Thought: Joe Biden was born in 1942, so he is 78 years old.\n",
      "Action: Finish[78 years old]\n"
     ]
    }
   ],
   "source": [
    "print(llm(manual_react))"
   ]
  },
  {
   "cell_type": "code",
   "execution_count": 10,
   "id": "ace611f9-a410-4ea4-afca-e95987ac821b",
   "metadata": {
    "ExecuteTime": {
     "end_time": "2023-09-11T07:18:10.825033Z",
     "start_time": "2023-09-11T07:18:10.814805Z"
    }
   },
   "outputs": [],
   "source": [
    "from langchain import OpenAI, Wikipedia\n",
    "from langchain.agents import initialize_agent, Tool, AgentType\n",
    "from langchain.agents.react.base import DocstoreExplorer"
   ]
  },
  {
   "cell_type": "markdown",
   "source": [],
   "metadata": {
    "collapsed": false
   },
   "id": "9619abf04c166451"
  },
  {
   "cell_type": "code",
   "execution_count": 24,
   "outputs": [],
   "source": [
    "docstore = DocstoreExplorer(Wikipedia())\n",
    "\n",
    "tools = [\n",
    "    Tool('Search', docstore.search, 'Search the web for information.'),\n",
    "    Tool('Lookup', docstore.lookup, 'Look up a term in a dictionary.'),\n",
    "]\n",
    "\n",
    "llm = OpenAI(model_name='text-davinci-003',\n",
    "             temperature=0,\n",
    "             max_tokens=256)\n",
    "\n",
    "react = initialize_agent(tools, llm, agent=AgentType.REACT_DOCSTORE, verbose=True)"
   ],
   "metadata": {
    "collapsed": false,
    "ExecuteTime": {
     "end_time": "2023-09-11T07:27:14.120254Z",
     "start_time": "2023-09-11T07:27:14.113722Z"
    }
   },
   "id": "f17d596f488122f6"
  },
  {
   "cell_type": "code",
   "execution_count": 25,
   "outputs": [
    {
     "name": "stdout",
     "output_type": "stream",
     "text": [
      "\n",
      "\n",
      "\u001B[1m> Entering new AgentExecutor chain...\u001B[0m\n",
      "\u001B[32;1m\u001B[1;3mThought: I need to search the president of the United States, find their age, then find the answer.\n",
      "Action: Search[president of the United States]\u001B[0m\n",
      "Observation: \u001B[36;1m\u001B[1;3mThe president of the United States (POTUS) is the head of state and head of government of the United States. The president directs the executive branch of the federal government and is the commander-in-chief of the United States Armed Forces.\n",
      "The power of the presidency has grown substantially since the first president, George Washington, took office in 1789. While presidential power has ebbed and flowed over time, the presidency has played an increasingly significant role in American political life since the beginning of the 20th century, with notable expansion during the presidency of Franklin D. Roosevelt. In modern times, the president is one of the world's most powerful political figures – the leader of the only remaining global superpower. As the leader of the nation with the largest economy by nominal GDP, the president possesses significant domestic and international hard and soft power.\n",
      "Article II of the Constitution establishes the executive branch of the federal government and vests executive power in the president. The power includes the execution and enforcement of federal law and the responsibility to appoint federal executive, diplomatic, regulatory, and judicial officers.  Based on constitutional provisions empowering the president to appoint and receive ambassadors and conclude treaties with foreign powers, and on subsequent laws enacted by Congress, the modern presidency has primary responsibility for conducting U.S. foreign policy. The role includes responsibility for directing the world's most expensive military, which has the second largest nuclear arsenal.\n",
      "The president also plays a leading role in federal legislation and domestic policymaking. As part of the system of separation of powers, Article I, Section 7 of the Constitution gives the president the power to sign or veto federal legislation. Since modern presidents are typically viewed as leaders of their political parties, major policymaking is significantly shaped by the outcome of presidential elections, with presidents taking an active role in promoting their policy priorities to members of Congress who are often electorally dependent on the president. In recent decades, presidents have also made increasing use of executive orders, agency regulations, and judicial appointments to shape domestic policy.\n",
      "The president is elected indirectly through the Electoral College to a four-year term, along with the vice president. Under the Twenty-second Amendment, ratified in 1951, no person who has been elected to two presidential terms may be elected to a third. In addition, nine vice presidents have become president by virtue of a president's intra-term death or resignation. In all, 45 individuals have served 46 presidencies spanning 58 four-year terms. Joe Biden is the 46th and current president of the United States, having assumed office on January 20, 2021.\u001B[0m\n",
      "Thought:\u001B[32;1m\u001B[1;3m Joe Biden is the 46th and current president of the United States, so the answer is 46.\n",
      "Action: Finish[46]\u001B[0m\n",
      "\n",
      "\u001B[1m> Finished chain.\u001B[0m\n"
     ]
    },
    {
     "data": {
      "text/plain": "'46'"
     },
     "execution_count": 25,
     "metadata": {},
     "output_type": "execute_result"
    }
   ],
   "source": [
    "question = \"How old is the president of the United States?\"\n",
    "\n",
    "react.run(question)"
   ],
   "metadata": {
    "collapsed": false,
    "ExecuteTime": {
     "end_time": "2023-09-11T07:27:22.364380Z",
     "start_time": "2023-09-11T07:27:15.697669Z"
    }
   },
   "id": "39e8c17ff7258681"
  },
  {
   "cell_type": "code",
   "execution_count": 26,
   "outputs": [
    {
     "name": "stdout",
     "output_type": "stream",
     "text": [
      "\n",
      "\n",
      "\u001B[1m> Entering new AgentExecutor chain...\u001B[0m\n",
      "\u001B[32;1m\u001B[1;3mThought: I need to search the president of the United States, find their date of birth, then calculate their age in Sep 2023.\n",
      "Action: Search[president of the United States]\u001B[0m\n",
      "Observation: \u001B[36;1m\u001B[1;3mThe president of the United States (POTUS) is the head of state and head of government of the United States. The president directs the executive branch of the federal government and is the commander-in-chief of the United States Armed Forces.\n",
      "The power of the presidency has grown substantially since the first president, George Washington, took office in 1789. While presidential power has ebbed and flowed over time, the presidency has played an increasingly significant role in American political life since the beginning of the 20th century, with notable expansion during the presidency of Franklin D. Roosevelt. In modern times, the president is one of the world's most powerful political figures – the leader of the only remaining global superpower. As the leader of the nation with the largest economy by nominal GDP, the president possesses significant domestic and international hard and soft power.\n",
      "Article II of the Constitution establishes the executive branch of the federal government and vests executive power in the president. The power includes the execution and enforcement of federal law and the responsibility to appoint federal executive, diplomatic, regulatory, and judicial officers.  Based on constitutional provisions empowering the president to appoint and receive ambassadors and conclude treaties with foreign powers, and on subsequent laws enacted by Congress, the modern presidency has primary responsibility for conducting U.S. foreign policy. The role includes responsibility for directing the world's most expensive military, which has the second largest nuclear arsenal.\n",
      "The president also plays a leading role in federal legislation and domestic policymaking. As part of the system of separation of powers, Article I, Section 7 of the Constitution gives the president the power to sign or veto federal legislation. Since modern presidents are typically viewed as leaders of their political parties, major policymaking is significantly shaped by the outcome of presidential elections, with presidents taking an active role in promoting their policy priorities to members of Congress who are often electorally dependent on the president. In recent decades, presidents have also made increasing use of executive orders, agency regulations, and judicial appointments to shape domestic policy.\n",
      "The president is elected indirectly through the Electoral College to a four-year term, along with the vice president. Under the Twenty-second Amendment, ratified in 1951, no person who has been elected to two presidential terms may be elected to a third. In addition, nine vice presidents have become president by virtue of a president's intra-term death or resignation. In all, 45 individuals have served 46 presidencies spanning 58 four-year terms. Joe Biden is the 46th and current president of the United States, having assumed office on January 20, 2021.\u001B[0m\n",
      "Thought:\u001B[32;1m\u001B[1;3m Joe Biden is the 46th and current president of the United States, and his date of birth is November 20, 1942. So in Sep 2023, he will be 80 years old.\n",
      "Action: Finish[80 years old]\u001B[0m\n",
      "\n",
      "\u001B[1m> Finished chain.\u001B[0m\n"
     ]
    },
    {
     "data": {
      "text/plain": "'80 years old'"
     },
     "execution_count": 26,
     "metadata": {},
     "output_type": "execute_result"
    }
   ],
   "source": [
    "question = \"How olf will the president of the United States be in Sep 2023?\"\n",
    "\n",
    "react.run(question)"
   ],
   "metadata": {
    "collapsed": false,
    "ExecuteTime": {
     "end_time": "2023-09-11T07:30:24.369153Z",
     "start_time": "2023-09-11T07:30:18.799685Z"
    }
   },
   "id": "7bb2088b843904ac"
  },
  {
   "cell_type": "code",
   "execution_count": 27,
   "outputs": [
    {
     "name": "stdout",
     "output_type": "stream",
     "text": [
      "\n",
      "\n",
      "Question: What is the elevation range for the area that the eastern sector of the Colorado orogeny extends into?\n",
      "Thought: I need to search Colorado orogeny, find the area that the eastern sector of the Colorado orogeny extends into, then find the elevation range of the area.\n",
      "Action: Search[Colorado orogeny]\n",
      "Observation: The Colorado orogeny was an episode of mountain building (an orogeny) in Colorado and surrounding areas.\n",
      "Thought: It does not mention the eastern sector. So I need to look up eastern sector.\n",
      "Action: Lookup[eastern sector]\n",
      "Observation: (Result 1 / 1) The eastern sector extends into the High Plains and is called the Central Plains orogeny.\n",
      "Thought: The eastern sector of Colorado orogeny extends into the High Plains. So I need to search High Plains and find its elevation range.\n",
      "Action: Search[High Plains]\n",
      "Observation: High Plains refers to one of two distinct land regions\n",
      "Thought: I need to instead search High Plains (United States).\n",
      "Action: Search[High Plains (United States)]\n",
      "Observation: The High Plains are a subregion of the Great Plains. From east to west, the High Plains rise in elevation from around 1,800 to 7,000 ft (550 to 2,130 m).[3]\n",
      "Thought: High Plains rise in elevation from around 1,800 to 7,000 ft, so the answer is 1,800 to 7,000 ft.\n",
      "Action: Finish[1,800 to 7,000 ft]\n",
      "\n",
      "Question: Musician and satirist Allie Goertz wrote a song about the \"The Simpsons\" character Milhouse, who Matt Groening named after who?\n",
      "Thought: The question simplifies to \"The Simpsons\" character Milhouse is named after who. I only need to search Milhouse and find who it is named after.\n",
      "Action: Search[Milhouse]\n",
      "Observation: Milhouse Mussolini Van Houten is a recurring character in the Fox animated television series The Simpsons voiced by Pamela Hayden and created by Matt Groening.\n",
      "Thought: The paragraph does not tell who Milhouse is named after, maybe I can look up \"named after\".\n",
      "Action: Lookup[named after]\n",
      "Observation: (Result 1 / 1) Milhouse was named after U.S. president Richard Nixon, whose middle name was Milhous.\n",
      "Thought: Milhouse was named after U.S. president Richard Nixon, so the answer is Richard Nixon.\n",
      "Action: Finish[Richard Nixon]\n",
      "\n",
      "Question: Which documentary is about Finnish rock groups, Adam Clayton Powell or The Saimaa Gesture?\n",
      "Thought: I need to search Adam Clayton Powell and The Saimaa Gesture, and find which documentary is about Finnish rock groups.\n",
      "Action: Search[Adam Clayton Powell]\n",
      "Observation: Could not find [Adam Clayton Powell]. Similar: [’Adam Clayton Powell III’, ’Seventh Avenue (Manhattan)’, ’Adam Clayton Powell Jr. State Office Building’, ’Isabel Washington Powell’, ’Adam Powell’, ’Adam Clayton Powell (film)’, ’Giancarlo Esposito’].\n",
      "Thought: To find the documentary, I can search Adam Clayton Powell (film).\n",
      "Action: Search[Adam Clayton Powell (film)]\n",
      "Observation: Adam Clayton Powell is a 1989 American documentary film directed by Richard Kilberg. The film is about the rise and fall of influential African-American politician Adam Clayton Powell Jr.[3][4] It was later aired as part of the PBS series The American Experience.\n",
      "Thought: Adam Clayton Powell (film) is a documentary about an African-American politician, not Finnish rock groups. So the documentary about Finnish rock groups must instead be The Saimaa Gesture.\n",
      "Action: Finish[The Saimaa Gesture]\n",
      "\n",
      "Question: What profession does Nicholas Ray and Elia Kazan have in common?\n",
      "Thought: I need to search Nicholas Ray and Elia Kazan, find their professions, then find the profession they have in common.\n",
      "Action: Search[Nicholas Ray]\n",
      "Observation: Nicholas Ray (born Raymond Nicholas Kienzle Jr., August 7, 1911 - June 16, 1979) was an American film director, screenwriter, and actor best known for the 1955 film Rebel Without a Cause.\n",
      "Thought: Professions of Nicholas Ray are director, screenwriter, and actor. I need to search Elia Kazan next and find his professions.\n",
      "Action: Search[Elia Kazan]\n",
      "Observation: Elia Kazan was an American film and theatre director, producer, screenwriter and actor.\n",
      "Thought: Professions of Elia Kazan are director, producer, screenwriter, and actor. So profession Nicholas Ray and Elia Kazan have in common is director, screenwriter, and actor.\n",
      "Action: Finish[director, screenwriter, actor]\n",
      "\n",
      "Question: Which magazine was started first Arthur’s Magazine or First for Women?\n",
      "Thought: I need to search Arthur’s Magazine and First for Women, and find which was started first.\n",
      "Action: Search[Arthur’s Magazine]\n",
      "Observation: Arthur’s Magazine (1844-1846) was an American literary periodical published in Philadelphia in the 19th century.\n",
      "Thought: Arthur’s Magazine was started in 1844. I need to search First for Women next.\n",
      "Action: Search[First for Women]\n",
      "Observation: First for Women is a woman’s magazine published by Bauer Media Group in the USA.[1] The magazine was started in 1989.\n",
      "Thought: First for Women was started in 1989. 1844 (Arthur’s Magazine) < 1989 (First for Women), so Arthur’s Magazine was started first.\n",
      "Action: Finish[Arthur’s Magazine]\n",
      "\n",
      "Question: Were Pavel Urysohn and Leonid Levin known for the same type of work?\n",
      "Thought: I need to search Pavel Urysohn and Leonid Levin, find their types of work, then find if they are the same.\n",
      "Action: Search[Pavel Urysohn]\n",
      "Observation: Pavel Samuilovich Urysohn (February 3, 1898 - August 17, 1924) was a Soviet mathematician who is best known for his contributions in dimension theory.\n",
      "Thought: Pavel Urysohn is a mathematician. I need to search Leonid Levin next and find its type of work.\n",
      "Action: Search[Leonid Levin]\n",
      "Observation: Leonid Anatolievich Levin is a Soviet-American mathematician and computer scientist.\n",
      "Thought: Leonid Levin is a mathematician and computer scientist. So Pavel Urysohn and Leonid Levin have the same type of work.\n",
      "Action: Finish[yes]\n",
      "\n",
      "\n",
      "Question: {input}\n",
      "{agent_scratchpad}\n"
     ]
    }
   ],
   "source": [
    "print(react.agent.llm_chain.prompt.template)"
   ],
   "metadata": {
    "collapsed": false,
    "ExecuteTime": {
     "end_time": "2023-09-11T07:42:25.875023Z",
     "start_time": "2023-09-11T07:42:25.863872Z"
    }
   },
   "id": "c616f87068b477a5"
  },
  {
   "cell_type": "code",
   "execution_count": 28,
   "outputs": [
    {
     "name": "stdout",
     "output_type": "stream",
     "text": [
      "\n",
      "\n",
      "\u001B[1m> Entering new AgentExecutor chain...\u001B[0m\n",
      "\u001B[32;1m\u001B[1;3mThought: I need to search Russell Crowe, find the first film he won an Oscar for, and find who directed that movie.\n",
      "Action: Search[Russell Crowe]\u001B[0m\n",
      "Observation: \u001B[36;1m\u001B[1;3mCould not find [Russell Crowe]. Similar: ['Russell Crowe', 'Russell Crowe filmography', \"The Pope's Exorcist\", \"Russell Crowe's jockstrap\", 'Unhinged (2020 film)', 'The Nice Guys', 'Robin Hood (2010 film)', 'Gladiator (2000 film)', 'List of awards and nominations received by Russell Crowe', 'A Beautiful Mind (film)']\u001B[0m\n",
      "Thought:\u001B[32;1m\u001B[1;3m To find the first film Russell Crowe won an Oscar for, I can search List of awards and nominations received by Russell Crowe.\n",
      "Action: Search[List of awards and nominations received by Russell Crowe]\u001B[0m\n",
      "Observation: \u001B[36;1m\u001B[1;3mNew Zealand Australian actor Russell Crowe has acted in blockbuster films such as Gladiator (2000), a historical epic for which he won the Academy Award for Best Actor. He is also a winner of the BAFTA Award for Best Actor in a Leading Role and Golden Globe Award for Best Actor – Motion Picture Drama for his portrayal of John Forbes Nash Jr. in the biographical drama A Beautiful Mind (2001).\u001B[0m\n",
      "Thought:\u001B[32;1m\u001B[1;3m Russell Crowe won an Oscar for Gladiator (2000) and was directed by Ridley Scott.\n",
      "Action: Finish[Gladiator (2000), Ridley Scott]\u001B[0m\n",
      "\n",
      "\u001B[1m> Finished chain.\u001B[0m\n"
     ]
    },
    {
     "data": {
      "text/plain": "'Gladiator (2000), Ridley Scott'"
     },
     "execution_count": 28,
     "metadata": {},
     "output_type": "execute_result"
    }
   ],
   "source": [
    "# multi top example\n",
    "question = \"What is the first film that Russell Crowe won an Oscar for, and who directed that movie?\"\n",
    "\n",
    "react.run(question)"
   ],
   "metadata": {
    "collapsed": false,
    "ExecuteTime": {
     "end_time": "2023-09-11T07:45:05.873961Z",
     "start_time": "2023-09-11T07:44:55.712077Z"
    }
   },
   "id": "4c38af4cd66e7f47"
  },
  {
   "cell_type": "code",
   "execution_count": null,
   "outputs": [],
   "source": [],
   "metadata": {
    "collapsed": false
   },
   "id": "6c3b42abbbce4b50"
  }
 ],
 "metadata": {
  "kernelspec": {
   "display_name": "Python 3 (ipykernel)",
   "language": "python",
   "name": "python3"
  },
  "language_info": {
   "codemirror_mode": {
    "name": "ipython",
    "version": 3
   },
   "file_extension": ".py",
   "mimetype": "text/x-python",
   "name": "python",
   "nbconvert_exporter": "python",
   "pygments_lexer": "ipython3",
   "version": "3.9.6"
  }
 },
 "nbformat": 4,
 "nbformat_minor": 5
}
